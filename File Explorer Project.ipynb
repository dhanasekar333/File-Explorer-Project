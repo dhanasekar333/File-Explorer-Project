{
 "cells": [
  {
   "cell_type": "markdown",
   "id": "6a44825e-15de-475e-a901-b7a7de3dadca",
   "metadata": {},
   "source": [
    "# File Explorer Project\n"
   ]
  },
  {
   "cell_type": "code",
   "execution_count": null,
   "id": "c1eb8921-4f53-495f-821b-351f5d1027e7",
   "metadata": {},
   "outputs": [],
   "source": [
    "import os,shutil"
   ]
  },
  {
   "cell_type": "code",
   "execution_count": null,
   "id": "0fc97bc2-5072-44d1-bf7b-83f98afada4d",
   "metadata": {},
   "outputs": [],
   "source": [
    "path = r\"C:/Users/dell/Downloads/File Explorer Project/\""
   ]
  },
  {
   "cell_type": "code",
   "execution_count": null,
   "id": "d5c105da-4acb-4583-8898-dfbd241fb1cf",
   "metadata": {},
   "outputs": [],
   "source": [
    "file_name = os.listdir(path)"
   ]
  },
  {
   "cell_type": "code",
   "execution_count": null,
   "id": "e01b72bf-7fba-4188-9b27-118e0a8685f0",
   "metadata": {},
   "outputs": [],
   "source": [
    "folder_names = ['Excel files','Image files','Video files','Text Files','Presentation','PDF files']\n",
    "\n",
    "for loop in range(0,6):\n",
    "    if not os.path.exists(path + folder_names[loop]):\n",
    "        print(path + folder_names[loop])\n",
    "        os.makedirs(path + folder_names[loop])\n",
    "\n",
    "for file in file_name:\n",
    "    if \".xlsx\" in file and not os.path.exists(path + \"Excel files/\" + file):\n",
    "        shutil.move(path + file,path + \"Excel files/\" + file)\n",
    "\n",
    "    elif \".jpg\" in file and not os.path.exists(path + \"Image files/\" + file):\n",
    "        shutil.move(path + file,path + \"Image files/\" + file)\n",
    "\n",
    "    elif \".mp4\" in file and not os.path.exists(path + \"Video files/\" + file):\n",
    "        shutil.move(path + file,path + \"Video files/\" + file)\n",
    "\n",
    "    elif \".txt\" in file and not os.path.exists(path + \"Text files/\" + file):\n",
    "        shutil.move(path + file,path + \"Text files/\" + file)\n",
    "\n",
    "    elif \".pdf\" in file and not os.path.exists(path + \"PDF files/\" + file):\n",
    "        shutil.move(path + file,path + \"PDF files/\" + file)\n",
    "\n",
    "    elif \".pptx\" in file and not os.path.exists(path + \"Presentation/\" + file):\n",
    "        shutil.move(path + file,path + \"Presentation/\" + file)"
   ]
  }
 ],
 "metadata": {
  "kernelspec": {
   "display_name": "Python 3 (ipykernel)",
   "language": "python",
   "name": "python3"
  },
  "language_info": {
   "codemirror_mode": {
    "name": "ipython",
    "version": 3
   },
   "file_extension": ".py",
   "mimetype": "text/x-python",
   "name": "python",
   "nbconvert_exporter": "python",
   "pygments_lexer": "ipython3",
   "version": "3.11.1"
  }
 },
 "nbformat": 4,
 "nbformat_minor": 5
}
